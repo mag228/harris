{
  "nbformat": 4,
  "nbformat_minor": 0,
  "metadata": {
    "colab": {
      "name": "harris.ipynb",
      "provenance": [],
      "collapsed_sections": []
    },
    "kernelspec": {
      "name": "python3",
      "display_name": "Python 3"
    },
    "accelerator": "GPU"
  },
  "cells": [
    {
      "cell_type": "code",
      "metadata": {
        "id": "eCBpvWDiear0"
      },
      "source": [
        "import numpy as np\r\n",
        "import numba\r\n",
        "from numba import cuda\r\n",
        "from time import time\r\n",
        "import matplotlib.pyplot as plt\r\n",
        "import warnings\r\n",
        "from PIL import Image\r\n",
        "import math\r\n",
        "warnings.filterwarnings('ignore')"
      ],
      "execution_count": 26,
      "outputs": []
    },
    {
      "cell_type": "markdown",
      "metadata": {
        "id": "knkCMDV7ejyj"
      },
      "source": [
        "**Расширение и сужение массива на необходимое количество строк и столбцов в зависимости от размера окна (дублирование/обрезание крайних)**"
      ]
    },
    {
      "cell_type": "code",
      "metadata": {
        "id": "tvh5iyIMejGE"
      },
      "source": [
        "def extend_array(a, sizew):\r\n",
        "  t=(int)(sizew/2)\r\n",
        "  for _ in range(t):\r\n",
        "    a = np.hstack((a[:,0].reshape(-1,1), a, a[:, len(a[0])-1].reshape(-1, 1)))\r\n",
        "    a = np.vstack((a[0][:], a, a[len(a)-1][:]))\r\n",
        "  return a\r\n",
        "\r\n",
        "def cut_array(a, sizew):\r\n",
        "  t=(int)(sizew/2)\r\n",
        "  l=[]\r\n",
        "  for i in range(t, a.shape[0]-t):\r\n",
        "    l.append(a[i,t:-t])\r\n",
        "  return np.array(l)"
      ],
      "execution_count": 2,
      "outputs": []
    },
    {
      "cell_type": "markdown",
      "metadata": {
        "id": "wB4TuSsde6l1"
      },
      "source": [
        "**Реализация алгоритма на cpu**"
      ]
    },
    {
      "cell_type": "code",
      "metadata": {
        "id": "33il5kMfe-iG"
      },
      "source": [
        "# реализация алгоритма на cpu\r\n",
        "def harris_cpu(im, sizew):\r\n",
        "  #для отклика\r\n",
        "  mark = np.zeros((im.shape[0], im.shape[1]), dtype=np.float64)\r\n",
        "  start = time()\r\n",
        "  #смещение\r\n",
        "  t = (int)(sizew/2)\r\n",
        "\r\n",
        "  for i in range(t+1, im.shape[0]-t-1):\r\n",
        "    for j in range(t+1, im.shape[1]-t-1):\r\n",
        "      # корр матрица\r\n",
        "      m=np.zeros((2,2), dtype=np.float64)\r\n",
        "      # считается как взвешенная сумма разностей\r\n",
        "      for k in range (-t, t+1):\r\n",
        "          for l in range(-t, t+1):\r\n",
        "            #гауссиана\r\n",
        "            g = 1./2/math.pi*math.e**(-(k**2+l**2)/2.)\r\n",
        "            #производные по х и у рассчитанные с помощью оператора собеля\r\n",
        "            Ix = im[i-1+k][j-1+l]*-1 + im[i-1+k][j+1+l]*1 + im[i+k][j-1+l]*-2 + im[i+k][j+1+l]*2 + im[i+1+k][j-1+l]*-1 + im[i+1+k][j+1+l]*1\r\n",
        "            Iy = im[i-1+k][j-1+l]*-1 + im[i-1+k][j+l]*-2 + im[i-1+k][j+1+l]*-1 + im[i+1+k][j-1+l]*1 + im[i+1+k][j+l]*2 + im[i+1+k][j+1+l]*1\r\n",
        "            m[0][0] += (Ix**2 * g)\r\n",
        "            m[1][1] += (Iy**2 * g)\r\n",
        "            m[0][1] += (Ix*Iy * g)\r\n",
        "            m[1][0] += (Ix*Iy * g)\r\n",
        "      # определитель и след корр матрицы\r\n",
        "      detA = m[0][0]*m[1][1] - m[0][1]*m[1][0]\r\n",
        "      traceA = m[0][0]+m[1][1] \r\n",
        "      # Отклик на смещение\r\n",
        "      mark[i][j] = detA - 0.05*traceA**2\r\n",
        "  return mark, time()-start"
      ],
      "execution_count": 3,
      "outputs": []
    },
    {
      "cell_type": "markdown",
      "metadata": {
        "id": "mB5QZu6aiXlL"
      },
      "source": [
        "**Реализация алгоритма на gpu и функция подготовки параметров**"
      ]
    },
    {
      "cell_type": "code",
      "metadata": {
        "id": "Qy1vGuzYia-J"
      },
      "source": [
        "# import numba\r\n",
        "# from numba import cuda\r\n",
        "\r\n",
        "@cuda.jit\r\n",
        "def harris_gpu(im, sizew, mark_d, w, h):\r\n",
        "  t = (int)(sizew[0]/2)\r\n",
        "  i, j = cuda.grid(2)\r\n",
        "  if i>t and j>t and i<w[0]-t and j<h[0]-t:\r\n",
        "    m=cuda.local.array((2,2), dtype=numba.float64)\r\n",
        "    # m=np.zeros((2,2), dtype=np.float64)\r\n",
        "    for k in range (-t, t+1):\r\n",
        "      for l in range(-t, t+1):\r\n",
        "        #гауссиана\r\n",
        "        g = 1./2/math.pi*math.e**(-(k**2+l**2)/2.)\r\n",
        "        #производные по х и у рассчитанные с помощью оператора собеля\r\n",
        "        Ix = im[i-1+k][j-1+l]*-1 + im[i-1+k][j+1+l]*1 + im[i+k][j-1+l]*-2 + im[i+k][j+1+l]*2 + im[i+1+k][j-1+l]*-1 + im[i+1+k][j+1+l]*1\r\n",
        "        Iy = im[i-1+k][j-1+l]*-1 + im[i-1+k][j+l]*-2 + im[i-1+k][j+1+l]*-1 + im[i+1+k][j-1+l]*1 + im[i+1+k][j+l]*2 + im[i+1+k][j+1+l]*1\r\n",
        "        m[0][0] += (Ix**2 * g)\r\n",
        "        m[1][1] += (Iy**2 * g)\r\n",
        "        m[0][1] += (Ix*Iy * g)\r\n",
        "        m[1][0] += (Ix*Iy * g)\r\n",
        "    # определитель и след корр матрицы\r\n",
        "    detA = m[0][0]*m[1][1] - m[0][1]*m[1][0]\r\n",
        "    traceA = m[0][0]+m[1][1] \r\n",
        "    # Отклик на смещение\r\n",
        "    mark_d[i][j] = detA - 0.05*traceA**2\r\n",
        "\r\n",
        "def prepare_and_exec_gpu(im, sizew):\r\n",
        "  w = im.shape[0]\r\n",
        "  h = im.shape[1]\r\n",
        "  mark = np.zeros((w, h), dtype=np.float64)\r\n",
        "\r\n",
        "  im_d = cuda.to_device(im)\r\n",
        "  mark_d = cuda.to_device(mark)\r\n",
        "  w_d = cuda.to_device(w)\r\n",
        "  h_d = cuda.to_device(h)\r\n",
        "  sizew_d = cuda.to_device(sizew)\r\n",
        "\r\n",
        "  # задаем сетку\r\n",
        "  blok = (8,8)\r\n",
        "  grid = (int(math.ceil(w/blok[0])), int(math.ceil(h/blok[1])))\r\n",
        "\r\n",
        "  start = time()\r\n",
        "  harris_gpu[grid, blok](im_d, sizew_d, mark_d, w_d, h_d)\r\n",
        "  end = time()-start\r\n",
        "\r\n",
        "  mark = mark_d.copy_to_host()\r\n",
        "  return mark, end"
      ],
      "execution_count": 111,
      "outputs": []
    },
    {
      "cell_type": "markdown",
      "metadata": {
        "id": "IxxJDwhXg8Bf"
      },
      "source": [
        "**Отрисовка точек углов**"
      ]
    },
    {
      "cell_type": "code",
      "metadata": {
        "id": "hKJkUST2g7og"
      },
      "source": [
        "def draw_angle(a, mark, sizew):\r\n",
        "  sc = (int)(sizew/2)\r\n",
        "  for i in range(sc, mark.shape[0]-sc):\r\n",
        "    for j in range(sc, mark.shape[1]-sc):\r\n",
        "      # определяем локальные максимумы и перекрашиваем подходящие пикселы в красный цвет\r\n",
        "      if mark[i][j]>0:\r\n",
        "        t = mark[i][j]\r\n",
        "        f = True\r\n",
        "        for k in range(-sc, sc+1):\r\n",
        "          for l in range(-sc, sc+1):\r\n",
        "            if k!=l:\r\n",
        "              if mark[i+k][j+l] > t:\r\n",
        "                f=False\r\n",
        "        if f:\r\n",
        "          a[i-sc][j-sc] = [255,0,0]\r\n",
        "  return a"
      ],
      "execution_count": 117,
      "outputs": []
    },
    {
      "cell_type": "markdown",
      "metadata": {
        "id": "eOQennjW4FgB"
      },
      "source": [
        "**Функция одного замера**"
      ]
    },
    {
      "cell_type": "code",
      "metadata": {
        "id": "YQXoiqWLhb0i"
      },
      "source": [
        "def experiment(file_name, window_size, needDraw):\r\n",
        "  im_src=(Image.open(file_name)).convert('RGB')\r\n",
        "  im = im_src.convert('L')\r\n",
        "  img_array = np.array(im)\r\n",
        "  ex_im = extend_array(img_array, window_size)\r\n",
        "  res_gpu, time_gpu = prepare_and_exec_gpu(ex_im, window_size)\r\n",
        "  res_gpu_img = Image.fromarray(np.uint8(draw_angle(np.array(im_src), res_gpu, window_size)))\r\n",
        "\r\n",
        "  res_cpu, time_cpu = harris_cpu(ex_im, window_size) \r\n",
        "  res_cpu_img = Image.fromarray(np.uint8(draw_angle(np.array(im_src), res_cpu, window_size)))\r\n",
        "\r\n",
        "  if needDraw:\r\n",
        "    print('исходное изображение')\r\n",
        "    display(im_src.resize((500,500)))\r\n",
        "    print('полученное на gpu')\r\n",
        "    display(res_gpu_img.resize((500,500)))\r\n",
        "    print('полученное на cpu')\r\n",
        "    display(res_cpu_img.resize((500,500)))\r\n",
        "  res_gpu_img.resize((500,500)).save('gpu_'+file_name)\r\n",
        "  res_cpu_img.resize((500,500)).save('cpu_'+file_name)\r\n",
        "  return time_gpu, time_cpu"
      ],
      "execution_count": 155,
      "outputs": []
    },
    {
      "cell_type": "code",
      "metadata": {
        "id": "26ktK8m94Sxq"
      },
      "source": [
        "def exec(name, needDraw):\r\n",
        "  n = [3,5,7]\r\n",
        "  c =[]\r\n",
        "  g=[]\r\n",
        "  a=[]\r\n",
        "  for ni in n:\r\n",
        "    gi, ci = experiment(name, ni, needDraw)\r\n",
        "    c.append(ci)\r\n",
        "    g.append(gi)\r\n",
        "    a.append(ci/gi)\r\n",
        "\r\n",
        "  plt.plot(np.array(n), np.array(a))\r\n",
        "  plt.title('График зависимости ускорения от размера окна')\r\n",
        "  plt.show()\r\n",
        "\r\n",
        "  for i in range(len(n)):\r\n",
        "    print('размер окна:',n[i],'; cpu:', c[i],'; gpu:', g[i],'; a:',a[i])"
      ],
      "execution_count": 156,
      "outputs": []
    },
    {
      "cell_type": "code",
      "metadata": {
        "colab": {
          "base_uri": "https://localhost:8080/",
          "height": 331
        },
        "id": "ZaZjFEj89FD1",
        "outputId": "a24f3f42-9838-4842-b13f-01d7322ebe81"
      },
      "source": [
        "exec('out.jpg', False)"
      ],
      "execution_count": 157,
      "outputs": [
        {
          "output_type": "display_data",
          "data": {
            "image/png": "[encoded data removed]",
            "text/plain": [
              "<Figure size 432x288 with 1 Axes>"
            ]
          },
          "metadata": {
            "tags": [],
            "needs_background": "light"
          }
        },
        {
          "output_type": "stream",
          "text": [
            "размер окна: 3 ; cpu: 3.387784481048584 ; gpu: 0.0006091594696044922 ; a: 5561.408219178083\n",
            "размер окна: 5 ; cpu: 9.614546775817871 ; gpu: 0.00041937828063964844 ; a: 22925.71461057419\n",
            "размер окна: 7 ; cpu: 18.810707569122314 ; gpu: 0.0005018711090087891 ; a: 37481.15249406176\n"
          ],
          "name": "stdout"
        }
      ]
    },
    {
      "cell_type": "code",
      "metadata": {
        "colab": {
          "base_uri": "https://localhost:8080/",
          "height": 331
        },
        "id": "6llTuybj9EgZ",
        "outputId": "801c3455-3831-4d87-f2dd-8c485bf68e4c"
      },
      "source": [
        "exec('1.jpg', False)"
      ],
      "execution_count": 158,
      "outputs": [
        {
          "output_type": "display_data",
          "data": {
            "image/png": "[encoded data removed]",
            "text/plain": [
              "<Figure size 432x288 with 1 Axes>"
            ]
          },
          "metadata": {
            "tags": [],
            "needs_background": "light"
          }
        },
        {
          "output_type": "stream",
          "text": [
            "размер окна: 3 ; cpu: 25.138672351837158 ; gpu: 0.0005395412445068359 ; a: 46592.67962881131\n",
            "размер окна: 5 ; cpu: 67.11236095428467 ; gpu: 0.0004391670227050781 ; a: 152817.39630836048\n",
            "размер окна: 7 ; cpu: 130.7240345478058 ; gpu: 0.0005488395690917969 ; a: 238182.59817549956\n"
          ],
          "name": "stdout"
        }
      ]
    },
    {
      "cell_type": "code",
      "metadata": {
        "colab": {
          "base_uri": "https://localhost:8080/",
          "height": 331
        },
        "id": "p4j3CTgI9AJD",
        "outputId": "879d1854-6d7b-4b2a-9148-d9dfef4ed42e"
      },
      "source": [
        "exec('harris_img.png', False)"
      ],
      "execution_count": 159,
      "outputs": [
        {
          "output_type": "display_data",
          "data": {
            "image/png": "[encoded data removed]",
            "text/plain": [
              "<Figure size 432x288 with 1 Axes>"
            ]
          },
          "metadata": {
            "tags": [],
            "needs_background": "light"
          }
        },
        {
          "output_type": "stream",
          "text": [
            "размер окна: 3 ; cpu: 54.66663718223572 ; gpu: 0.0005764961242675781 ; a: 94825.68031430934\n",
            "размер окна: 5 ; cpu: 147.94321513175964 ; gpu: 0.0004379749298095703 ; a: 337789.2318998367\n",
            "размер окна: 7 ; cpu: 288.00311851501465 ; gpu: 0.0004928112030029297 ; a: 584408.6269956458\n"
          ],
          "name": "stdout"
        }
      ]
    }
  ]
}